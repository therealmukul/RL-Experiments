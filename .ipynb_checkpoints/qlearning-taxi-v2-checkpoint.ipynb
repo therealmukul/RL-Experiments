{
 "cells": [
  {
   "cell_type": "code",
   "execution_count": 5,
   "metadata": {},
   "outputs": [],
   "source": [
    "import random\n",
    "import logging\n",
    "\n",
    "import numpy as np\n",
    "import gym\n",
    "\n",
    "from tqdm import tqdm"
   ]
  },
  {
   "cell_type": "code",
   "execution_count": 27,
   "metadata": {},
   "outputs": [],
   "source": [
    "###############################################################################\n",
    "class QLearner:\n",
    "    \"\"\"Class for performing Q-Learning on OpenAI Gym Environments.\"\"\"\n",
    "    \n",
    "    def __init__(self, env, alpha, gamma, epsilon, name=None, verbose=False):\n",
    "        \"\"\"Initializations\"\"\"\n",
    "        self.env = env\n",
    "        self.alpha = alpha\n",
    "        self.gamma = gamma\n",
    "        self.epsilon = epsilon\n",
    "        self.name = name if name else ''\n",
    "        self.verbose = verbose\n",
    "        \n",
    "        self.num_actions = env.action_space.n\n",
    "        self.num_states = env.observation_space.n\n",
    "        self.Q = np.zeros((self.num_states, self.num_states))\n",
    "        \n",
    "        self.training_episode_total_rewards = []\n",
    "        \n",
    "        if self.verbose:\n",
    "            print(f'{self.name}')\n",
    "        \n",
    "    def choose_action(self, state):\n",
    "        \"\"\"Epsilon greedy exploration vs exploitation strategy.\"\"\"\n",
    "        rand = random.uniform(0, 1)\n",
    "        \n",
    "        if rand > self.epsilon:\n",
    "            action = np.argmax(self.Q[state, :])\n",
    "        else:\n",
    "            action = self.env.action_space.sample()\n",
    "            \n",
    "        return action\n",
    "    \n",
    "    def learn(self, s, a, r, s_):\n",
    "        \"\"\"Update Q table.\n",
    "        \n",
    "        Q[s, a] = Q[s, a] + alpha * (r[s, a] + gamma * max(Q[s_, a_]) - Q[s, a])\n",
    "        \"\"\"\n",
    "        \n",
    "        self.Q[s, a] += self.alpha * \\\n",
    "            (r + self.gamma * np.max(self.Q[s_, :]) - self.Q[s, a])\n",
    "        \n",
    "    def train(self, n_episodes):\n",
    "        \"\"\"Train agent.\"\"\"\n",
    "        for episode in range(n_episodes):\n",
    "            state = env.reset()\n",
    "            done = False\n",
    "            episode_total_reward = 0\n",
    "            \n",
    "            if episode % 1000 == 0:\n",
    "                print(episode)\n",
    "            \n",
    "            while not done:\n",
    "                action = self.choose_action(state)\n",
    "                state_, reward, done, info = env.step(action)\n",
    "                \n",
    "                self.learn(state, action, reward, state_)\n",
    "                \n",
    "                state = state_\n",
    "                episode_total_reward += reward\n",
    "                \n",
    "            self.training_episode_total_rewards.append(episode_total_reward)\n",
    "            \n",
    "            \n",
    "        \n",
    "        "
   ]
  },
  {
   "cell_type": "code",
   "execution_count": 25,
   "metadata": {},
   "outputs": [
    {
     "name": "stdout",
     "output_type": "stream",
     "text": [
      "+---------+\n",
      "|R: | : :G|\n",
      "| : : : : |\n",
      "| : : : : |\n",
      "| | : | : |\n",
      "|\u001b[34;1mY\u001b[0m| :\u001b[43m \u001b[0m|\u001b[35mB\u001b[0m: |\n",
      "+---------+\n",
      "\n"
     ]
    }
   ],
   "source": [
    "env = gym.make('Taxi-v2')\n",
    "env.render()"
   ]
  },
  {
   "cell_type": "code",
   "execution_count": 29,
   "metadata": {},
   "outputs": [
    {
     "name": "stdout",
     "output_type": "stream",
     "text": [
      "\n"
     ]
    }
   ],
   "source": [
    "q_learner = QLearner(env=env, alpha=0.5, gamma=0.9, epsilon=0.5, verbose=True)\n",
    "# q_learner.train(10000)"
   ]
  }
 ],
 "metadata": {
  "kernelspec": {
   "display_name": "Python 3",
   "language": "python",
   "name": "python3"
  },
  "language_info": {
   "codemirror_mode": {
    "name": "ipython",
    "version": 3
   },
   "file_extension": ".py",
   "mimetype": "text/x-python",
   "name": "python",
   "nbconvert_exporter": "python",
   "pygments_lexer": "ipython3",
   "version": "3.7.6"
  }
 },
 "nbformat": 4,
 "nbformat_minor": 4
}
