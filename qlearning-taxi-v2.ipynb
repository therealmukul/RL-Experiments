{
 "cells": [
  {
   "cell_type": "code",
   "execution_count": 1,
   "metadata": {},
   "outputs": [],
   "source": [
    "import random\n",
    "import logging\n",
    "from importlib import reload\n",
    "\n",
    "import modules.qlearner as qlearner\n",
    "\n",
    "import numpy as np\n",
    "import seaborn as sns\n",
    "import gym\n",
    "\n",
    "from tqdm import tqdm"
   ]
  },
  {
   "cell_type": "code",
   "execution_count": 2,
   "metadata": {},
   "outputs": [
    {
     "name": "stdout",
     "output_type": "stream",
     "text": [
      "+---------+\n",
      "|R: | : :G|\n",
      "| : : : : |\n",
      "| :\u001b[43m \u001b[0m: : : |\n",
      "| | : | : |\n",
      "|\u001b[35mY\u001b[0m| : |\u001b[34;1mB\u001b[0m: |\n",
      "+---------+\n",
      "\n"
     ]
    }
   ],
   "source": [
    "env = gym.make('Taxi-v2')\n",
    "env.render()"
   ]
  },
  {
   "cell_type": "code",
   "execution_count": 14,
   "metadata": {},
   "outputs": [
    {
     "name": "stdout",
     "output_type": "stream",
     "text": [
      "Q-Learner-Taxi-v2\n",
      "\talpha   = 0.5\n",
      "\tgamma   = 0.9\n",
      "\tepsilon = 0.3\n",
      "\tactions = 6\n",
      "\tstates  = 500\n",
      "\tQ dims  = (500, 6)\n",
      "episode 0, reward = -569\n",
      "episode 1000, reward = -9\n",
      "episode 2000, reward = 11\n",
      "episode 3000, reward = -11\n",
      "episode 4000, reward = -13\n",
      "episode 5000, reward = 11\n",
      "episode 6000, reward = -3\n",
      "episode 7000, reward = -13\n",
      "episode 8000, reward = -6\n",
      "episode 9000, reward = 6\n"
     ]
    }
   ],
   "source": [
    "reload(qlearner)\n",
    "\n",
    "ql = qlearner.QLearner(env=env, alpha=0.5, gamma=0.9, \n",
    "                       epsilon=0.3, name='Taxi-v2', verbose=True)\n",
    "ql.train(n_episodes=10000, print_interval=1000)"
   ]
  },
  {
   "cell_type": "code",
   "execution_count": 15,
   "metadata": {},
   "outputs": [
    {
     "data": {
      "text/plain": [
       "<matplotlib.axes._subplots.AxesSubplot at 0x1a24dd27d0>"
      ]
     },
     "execution_count": 15,
     "metadata": {},
     "output_type": "execute_result"
    },
    {
     "data": {
      "image/png": "[encoded data removed]",
      "text/plain": [
       "<Figure size 432x288 with 1 Axes>"
      ]
     },
     "metadata": {
      "needs_background": "light"
     },
     "output_type": "display_data"
    }
   ],
   "source": [
    "sns.lineplot(y=ql.episode_rewards, x=list(range(10000)))"
   ]
  }
 ],
 "metadata": {
  "kernelspec": {
   "display_name": "Python 3",
   "language": "python",
   "name": "python3"
  },
  "language_info": {
   "codemirror_mode": {
    "name": "ipython",
    "version": 3
   },
   "file_extension": ".py",
   "mimetype": "text/x-python",
   "name": "python",
   "nbconvert_exporter": "python",
   "pygments_lexer": "ipython3",
   "version": "3.7.6"
  }
 },
 "nbformat": 4,
 "nbformat_minor": 4
}
